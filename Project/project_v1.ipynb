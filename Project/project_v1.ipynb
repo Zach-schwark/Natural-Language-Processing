{
 "cells": [
  {
   "cell_type": "code",
   "execution_count": 45,
   "metadata": {},
   "outputs": [],
   "source": [
    "# imports\n",
    "import pandas as pd\n",
    "import numpy as np\n",
    "from transformers import AutoTokenizer, AutoModelForMaskedLM\n",
    "import torch\n",
    "from torch.utils.data import Dataset\n",
    "from datasets import load_dataset\n",
    "device = torch.device(\"cuda\" if torch.cuda.is_available() else \"cpu\")"
   ]
  },
  {
   "cell_type": "markdown",
   "metadata": {},
   "source": [
    "## Load Emotions Dataset"
   ]
  },
  {
   "cell_type": "code",
   "execution_count": 46,
   "metadata": {},
   "outputs": [],
   "source": [
    "emo_train = load_dataset(\"csv\", data_files=\"./Swahili Emotion Data/emo_train.csv\", encoding = \"ISO-8859-1\")\n",
    "emo_valid = load_dataset(\"csv\", data_files=\"./Swahili Emotion Data/emo_valid.csv\", encoding = \"ISO-8859-1\")\n",
    "emo_test = load_dataset(\"csv\", data_files=\"./Swahili Emotion Data/emo_test.csv\", encoding = \"ISO-8859-1\")"
   ]
  },
  {
   "cell_type": "code",
   "execution_count": 47,
   "metadata": {},
   "outputs": [],
   "source": [
    "#  \t0 - neutral\n",
    "#\t1 - joy (furaha)\n",
    "#\t2 - anger (hasira)\n",
    "#\t3 - sadness (huzuni)\n",
    "#\t4 - disgust (machukizo)\n",
    "#\t5 - suprise (mshangao)\n",
    "#\t6 - fear (woga)\n",
    "\n",
    "\n",
    "classes = ['neutral','joy','anger','sadness','disgust','suprise','fear']\n",
    "class2id = {class_:id for id, class_ in enumerate(classes)}\n",
    "id2class = {id:class_ for class_, id in class2id.items()}"
   ]
  },
  {
   "cell_type": "markdown",
   "metadata": {},
   "source": [
    "## Load Pre-Trained Model\n",
    "### AfriBerta"
   ]
  },
  {
   "cell_type": "code",
   "execution_count": null,
   "metadata": {},
   "outputs": [],
   "source": [
    "# Load model directly\n",
    "from transformers import AutoTokenizer, AutoModelForTokenClassification\n",
    "\n",
    "tokenizer = AutoTokenizer.from_pretrained(\"castorini/afriberta_base\")\n",
    "model = AutoModelForTokenClassification.from_pretrained(\"castorini/afriberta_base\", num_labels=len(classes),id2label=id2class, label2id=class2id,problem_type = \"multi_label_classification\")\n",
    "\n",
    "tokenizer.model_max_length = 512 "
   ]
  },
  {
   "cell_type": "markdown",
   "metadata": {},
   "source": [
    "## Preprocess Data"
   ]
  },
  {
   "cell_type": "code",
   "execution_count": null,
   "metadata": {},
   "outputs": [],
   "source": [
    "# Preprocessing the Emotion Dataset using the Trainer\n",
    "\n",
    "import ast\n",
    "\n",
    "def process_label(data):\n",
    "    lables = []\n",
    "    for element in data['labels']:\n",
    "        element = element.replace(\"[\",\"\")\n",
    "        element = element.replace(\"]\",\"\")\n",
    "        element = element.replace(\" \",\"\")\n",
    "        element_list = element.split(\",\")\n",
    "        label_list = [int(item) for item in element_list]\n",
    "        lables.append(label_list)\n",
    "    data['labels'] = lables\n",
    "    return data\n",
    "\n",
    "tokenised_trained_emotion = emo_train.map(process_label, batched=True)\n",
    "tokenised_valid_emotion = emo_valid.map(process_label, batched=True)\n",
    "tokenised_test_emotion = emo_test.map(process_label, batched=True)\n",
    "\n",
    "\n",
    "def tokenize_function(data):\n",
    "    all_labels = data['labels']\n",
    "    labels = [0. for i in range(len(classes))]\n",
    "    for label in all_labels:\n",
    "        label_id = label\n",
    "        labels[label_id] = 1.\n",
    "    \n",
    "    data = tokenizer(data[\"text\"], padding = \"max_length\", truncation=True)\n",
    "    data['labels'] = labels\n",
    "    return data\n",
    "\n",
    "\n",
    "tokenised_trained_emotion = tokenised_trained_emotion.map(tokenize_function)\n",
    "tokenised_valid_emotion = tokenised_valid_emotion.map(tokenize_function)\n",
    "tokenised_test_emotion = tokenised_test_emotion.map(tokenize_function)\n",
    "\n",
    "tokenised_trained_emotion = tokenised_trained_emotion.rename_column(\"labels\",\"label\")\n",
    "tokenised_valid_emotion = tokenised_valid_emotion.rename_column(\"labels\",\"label\")\n",
    "tokenised_test_emotion = tokenised_test_emotion.rename_column(\"labels\",\"label\")\n",
    "\n",
    "#print(tokenised_trained_emotion['train']['label'])\n",
    "\n",
    "    \n",
    "small_train_dataset = tokenised_trained_emotion[\"train\"].shuffle(seed=42).select(range(1000))\n",
    "small_eval_dataset = tokenised_valid_emotion[\"train\"].shuffle(seed=42).select(range(1000))\n"
   ]
  },
  {
   "cell_type": "code",
   "execution_count": 50,
   "metadata": {},
   "outputs": [],
   "source": [
    "from transformers import DataCollatorWithPadding\n",
    "\n",
    "data_collator = DataCollatorWithPadding(tokenizer=tokenizer)\n"
   ]
  },
  {
   "cell_type": "code",
   "execution_count": null,
   "metadata": {},
   "outputs": [],
   "source": [
    "from transformers import TrainingArguments, Trainer\n",
    "\n",
    "import evaluate\n",
    "\n",
    "\n",
    "metric = evaluate.load(\"accuracy\")\n",
    "clf_metrics = evaluate.combine([\"accuracy\", \"f1\", \"precision\", \"recall\"])\n",
    "\n",
    "def sigmoid(x):\n",
    "   return 1/(1 + np.exp(-x))\n",
    "\n",
    "class CustomTrainer(Trainer):\n",
    "   def compute_loss(self, model, inputs, return_outputs=False):\n",
    "      outputs = model(\n",
    "          input_ids=inputs['input_ids'],\n",
    "          attention_mask=inputs['attention_mask'],\n",
    "      )\n",
    "      cls_logits = outputs['logits'][:, 0, :]\n",
    "      loss = torch.nn.BCEWithLogitsLoss()(cls_logits.float(),\n",
    "                                       inputs['labels'].float())\n",
    "      return (loss, outputs) if return_outputs else loss\n",
    "    \n",
    "\n",
    "def compute_metrics(eval_pred):\n",
    "    predictions, labels = eval_pred\n",
    "    predictions = predictions[:, 0, :]\n",
    "    predictions = sigmoid(predictions)\n",
    "    predictions = (predictions > 0.5).astype(int).reshape(-1)\n",
    "    #predictions = np.argmax(logits, axis=1)\n",
    "    return clf_metrics.compute(predictions=predictions, references=labels.astype(int).reshape(-1))\n",
    "\n",
    "\n",
    "#training_args = TrainingArguments(output_dir=\"test_trainer\", eval_strategy=\"epoch\", learning_rate = 5e-5, adam_epsilon = 1e-8, lr_scheduler_type = \"reduce_lr_on_plateau\", lr_scheduler_kwargs = {'patience':5} )\n",
    "\n",
    "training_args = TrainingArguments(\n",
    "   output_dir=\"my_awesome_model\",\n",
    "   #learning_rate=2e-5,\n",
    "   learning_rate = 5e-5,\n",
    "   adam_epsilon = 1e-8,\n",
    "   lr_scheduler_type = \"reduce_lr_on_plateau\",\n",
    "   lr_scheduler_kwargs = {'patience':5},\n",
    "   #per_device_train_batch_size=4,\n",
    "   #per_device_eval_batch_size=4,\n",
    "   num_train_epochs=2,\n",
    "   weight_decay=0.01,\n",
    "   evaluation_strategy=\"epoch\",\n",
    "   save_strategy=\"epoch\",\n",
    "   load_best_model_at_end=True,\n",
    ")\n",
    "\n",
    "\n",
    "trainer = CustomTrainer(\n",
    "    model=model,\n",
    "    args=training_args,\n",
    "    train_dataset=small_train_dataset,\n",
    "    eval_dataset=small_eval_dataset,\n",
    "    data_collator=data_collator,\n",
    "    compute_metrics=compute_metrics,\n",
    ")\n",
    "\n",
    "\n",
    "trainer.train()"
   ]
  },
  {
   "cell_type": "code",
   "execution_count": null,
   "metadata": {},
   "outputs": [],
   "source": [
    "tokenizer.save_pretrained(\"./first_finetuning_model\")\n",
    "model.save_pretrained(\"./first_finetuning_model\")"
   ]
  }
 ],
 "metadata": {
  "kernelspec": {
   "display_name": "Python 3",
   "language": "python",
   "name": "python3"
  },
  "language_info": {
   "codemirror_mode": {
    "name": "ipython",
    "version": 3
   },
   "file_extension": ".py",
   "mimetype": "text/x-python",
   "name": "python",
   "nbconvert_exporter": "python",
   "pygments_lexer": "ipython3",
   "version": "3.12.0"
  }
 },
 "nbformat": 4,
 "nbformat_minor": 2
}
