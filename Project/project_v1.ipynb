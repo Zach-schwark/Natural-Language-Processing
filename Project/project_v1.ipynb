{
 "cells": [
  {
   "cell_type": "code",
   "execution_count": null,
   "metadata": {},
   "outputs": [],
   "source": [
    "# imports\n",
    "import pandas as pd\n",
    "import numpy as np\n",
    "from transformers import AutoTokenizer, AutoModelForMaskedLM\n",
    "import torch\n",
    "from torch.utils.data import Dataset\n",
    "from datasets import load_dataset"
   ]
  },
  {
   "cell_type": "markdown",
   "metadata": {},
   "source": [
    "## Load Emotions Dataset"
   ]
  },
  {
   "cell_type": "code",
   "execution_count": 2,
   "metadata": {},
   "outputs": [],
   "source": [
    "emo_train = load_dataset(\"csv\", data_files=\"./Swahili Emotion Data/emo_train.csv\", encoding = \"ISO-8859-1\")\n",
    "emo_valid = load_dataset(\"csv\", data_files=\"./Swahili Emotion Data/emo_valid.csv\", encoding = \"ISO-8859-1\")\n",
    "emo_test = load_dataset(\"csv\", data_files=\"./Swahili Emotion Data/emo_test.csv\", encoding = \"ISO-8859-1\")"
   ]
  },
  {
   "cell_type": "code",
   "execution_count": 3,
   "metadata": {},
   "outputs": [],
   "source": [
    "# emo_train_df = pd.read_csv(\"./Swahili Emotion Data/emo_train.csv\", encoding = \"ISO-8859-1\")\n",
    "# display(emo_train_df)\n",
    "\n",
    "# emo_valid_df = pd.read_csv(\"./Swahili Emotion Data/emo_valid.csv\", encoding = \"ISO-8859-1\")\n",
    "# display(emo_valid_df)\n",
    "\n",
    "# emo_test_df = pd.read_csv(\"./Swahili Emotion Data/emo_test.csv\", encoding = \"ISO-8859-1\")\n",
    "# display(emo_test_df)"
   ]
  },
  {
   "cell_type": "markdown",
   "metadata": {},
   "source": [
    "## Load Pre-Trained Model\n",
    "### AfriBerta"
   ]
  },
  {
   "cell_type": "code",
   "execution_count": null,
   "metadata": {},
   "outputs": [],
   "source": [
    "# Load model directly\n",
    "from transformers import AutoTokenizer, AutoModelForTokenClassification\n",
    "\n",
    "tokenizer = AutoTokenizer.from_pretrained(\"castorini/afriberta_base\")\n",
    "model = AutoModelForTokenClassification.from_pretrained(\"castorini/afriberta_base\", num_labels=7)\n",
    "\n",
    "tokenizer.model_max_length = 512 "
   ]
  },
  {
   "cell_type": "markdown",
   "metadata": {},
   "source": [
    "## Preprocess Data"
   ]
  },
  {
   "cell_type": "code",
   "execution_count": 5,
   "metadata": {},
   "outputs": [],
   "source": [
    "import torch\n",
    "from torch.utils.data import Dataset\n",
    "\n",
    "\n"
   ]
  },
  {
   "cell_type": "code",
   "execution_count": 6,
   "metadata": {},
   "outputs": [],
   "source": [
    "# Preprocessing the Emotion Dataset using the Trainer\n",
    "\n",
    "import ast\n",
    "\n",
    "def tokenize_function(data):\n",
    "    return tokenizer(data[\"text\"], padding = \"max_length\", truncation=True)\n",
    "\n",
    "tokenised_trained_emotion = emo_train.map(tokenize_function, batched=True)\n",
    "tokenised_valid_emotion = emo_valid.map(tokenize_function, batched=True)\n",
    "tokenised_test_emotion = emo_test.map(tokenize_function, batched=True)\n",
    "\n",
    "tokenised_trained_emotion = tokenised_trained_emotion.rename_column(\"labels\",\"label\")\n",
    "tokenised_valid_emotion = tokenised_valid_emotion.rename_column(\"labels\",\"label\")\n",
    "tokenised_test_emotion = tokenised_test_emotion.rename_column(\"labels\",\"label\")\n",
    "\n",
    "\n",
    "        \n",
    " # Function to process each label\n",
    "def process_label(label):\n",
    "    element_list = ast.literal_eval(label)\n",
    "    if len(element_list) >= 1:\n",
    "        new_value = element_list[0]\n",
    "        return new_value # Return the first element as string\n",
    "    return label  # Return unchanged if only one element\n",
    "\n",
    "# Apply the function to the entire 'label' column\n",
    "tokenised_trained_emotion = tokenised_trained_emotion.map(lambda fixlabel: {'label': process_label(fixlabel['label'])})       \n",
    "\n",
    "tokenised_valid_emotion = tokenised_valid_emotion.map(lambda fixlabel: {'label': process_label(fixlabel['label'])})     \n",
    "\n",
    "tokenised_test_emotion = tokenised_test_emotion.map(lambda fixlabel: {'label': process_label(fixlabel['label'])})            \n",
    "        \n",
    "\n",
    "small_train_dataset = tokenised_trained_emotion[\"train\"].shuffle(seed=42).select(range(1000))\n",
    "small_eval_dataset = tokenised_valid_emotion[\"train\"].shuffle(seed=42).select(range(1000))\n"
   ]
  },
  {
   "cell_type": "code",
   "execution_count": null,
   "metadata": {},
   "outputs": [],
   "source": [
    "from transformers import TrainingArguments, Trainer\n",
    "\n",
    "import evaluate\n",
    "\n",
    "\n",
    "metric = evaluate.load(\"accuracy\")\n",
    "\n",
    "\n",
    "class CustomTrainer(Trainer):\n",
    "    def compute_loss(self, model, inputs, return_outputs=False):\n",
    "        outputs = model(\n",
    "            input_ids = inputs['input_ids'],\n",
    "            attention_mask = inputs['attention_mask'],\n",
    "        )\n",
    "        loss = torch.nn.CrossEntropyLoss()(outputs['logits'][:,0],\n",
    "                                         inputs['labels'])\n",
    "        return (loss, outputs) if return_outputs else loss\n",
    "    \n",
    "    \n",
    "\n",
    "def compute_metrics(eval_pred):\n",
    "    logits, labels = eval_pred\n",
    "    predictions = np.argmax(logits[:,0], axis=1)\n",
    "    return metric.compute(predictions=predictions, references=labels)\n",
    "\n",
    "\n",
    "training_args = TrainingArguments(output_dir=\"test_trainer\", eval_strategy=\"epoch\")\n",
    "\n",
    "trainer = CustomTrainer(\n",
    "    model=model,\n",
    "    args=training_args,\n",
    "    train_dataset=small_train_dataset,\n",
    "    eval_dataset=small_eval_dataset,\n",
    "    compute_metrics=compute_metrics,\n",
    ")\n",
    "trainer.train()"
   ]
  }
 ],
 "metadata": {
  "kernelspec": {
   "display_name": "Python 3",
   "language": "python",
   "name": "python3"
  },
  "language_info": {
   "codemirror_mode": {
    "name": "ipython",
    "version": 3
   },
   "file_extension": ".py",
   "mimetype": "text/x-python",
   "name": "python",
   "nbconvert_exporter": "python",
   "pygments_lexer": "ipython3",
   "version": "3.12.0"
  }
 },
 "nbformat": 4,
 "nbformat_minor": 2
}
