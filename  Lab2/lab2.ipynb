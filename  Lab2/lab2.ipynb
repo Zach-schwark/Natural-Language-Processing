{
 "cells": [
  {
   "cell_type": "code",
   "execution_count": 5,
   "metadata": {},
   "outputs": [
    {
     "name": "stderr",
     "output_type": "stream",
     "text": [
      "[nltk_data] Downloading package punkt to /home/zachs/nltk_data...\n",
      "[nltk_data]   Package punkt is already up-to-date!\n"
     ]
    },
    {
     "name": "stdout",
     "output_type": "stream",
     "text": [
      "465666\n"
     ]
    }
   ],
   "source": [
    "import re\n",
    "import numpy as np\n",
    "import nltk\n",
    "from nltk.tokenize import word_tokenize\n",
    "from nltk.corpus import stopwords\n",
    "import tensorflow as tf\n",
    "from sklearn.model_selection import train_test_split\n",
    "from sklearn.preprocessing import LabelEncoder, OneHotEncoder\n",
    "nltk.download('punkt')\n",
    "\n",
    "# Function to read and preprocess text\n",
    "def read_and_preprocess(files):\n",
    "    corpus = []\n",
    "    for file in files:\n",
    "        with open(file, 'r') as f:\n",
    "            text = f.read().lower()\n",
    "            # Remove punctuation\n",
    "            text = re.sub(r'[^\\w\\s]', '', text)\n",
    "            # Tokenize\n",
    "            tokens = word_tokenize(text)\n",
    "            corpus.extend(tokens)\n",
    "    return corpus, tokens\n",
    "\n",
    "# Specify the files for the seven books\n",
    "files = ['HarryPotter/HP1.txt', 'HarryPotter/HP2.txt', 'HarryPotter/HP3.txt', 'HarryPotter/HP4.txt']\n",
    "\n",
    "# Preprocess the text\n",
    "corpus, tokens = read_and_preprocess(files)"
   ]
  },
  {
   "cell_type": "code",
   "execution_count": 16,
   "metadata": {},
   "outputs": [
    {
     "name": "stdout",
     "output_type": "stream",
     "text": [
      "hello\n",
      "the riddle house\n"
     ]
    }
   ],
   "source": [
    "def extract_ngrams_from_tokens(tokens, n):\n",
    "    # Step 1: Initialize an empty list to store N-grams\n",
    "    n_grams = []\n",
    "\n",
    "    # Step 2: Generate N-grams\n",
    "    for i in range(len(tokens) - n + 1):\n",
    "        n_gram = ' '.join(tokens[i:i+n])\n",
    "        n_grams.append(n_gram)\n",
    "\n",
    "    return n_grams\n",
    "\n",
    "trigrams = extract_ngrams_from_tokens(tokens, 3)\n",
    "print(trigrams[0])"
   ]
  },
  {
   "cell_type": "code",
   "execution_count": null,
   "metadata": {},
   "outputs": [],
   "source": [
    "\n",
    "\n",
    "X_train_val, X_test, y_train_val, y_test = train_test_split(trigrams, test_size=0.2, random_state=42)\n",
    "\n",
    "X_train, X_val, y_train, y_val = train_test_split(X_train_val, y_train_val, test_size=0.25, random_state=42)"
   ]
  }
 ],
 "metadata": {
  "kernelspec": {
   "display_name": "Python 3",
   "language": "python",
   "name": "python3"
  },
  "language_info": {
   "codemirror_mode": {
    "name": "ipython",
    "version": 3
   },
   "file_extension": ".py",
   "mimetype": "text/x-python",
   "name": "python",
   "nbconvert_exporter": "python",
   "pygments_lexer": "ipython3",
   "version": "3.10.12"
  }
 },
 "nbformat": 4,
 "nbformat_minor": 2
}
