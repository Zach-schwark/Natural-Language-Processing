{
 "cells": [
  {
   "cell_type": "code",
   "execution_count": null,
   "metadata": {},
   "outputs": [],
   "source": [
    "import re\n",
    "import numpy as np\n",
    "import nltk\n",
    "from nltk.tokenize import word_tokenize\n",
    "from nltk.corpus import stopwords\n",
    "import tensorflow as tf\n",
    "from sklearn.model_selection import train_test_split\n",
    "from sklearn.preprocessing import LabelEncoder, OneHotEncoder\n",
    "nltk.download('punkt')\n",
    "\n",
    "# Function to read and preprocess text\n",
    "def read_and_preprocess(files):\n",
    "    corpus = []\n",
    "    for file in files:\n",
    "        with open(file, 'r') as f:\n",
    "            text = f.read().lower()\n",
    "            # Remove punctuation\n",
    "            text = re.sub(r'[^\\w\\s]', '', text)\n",
    "            # Tokenize\n",
    "            tokens = word_tokenize(text)\n",
    "            corpus.extend(tokens)\n",
    "    return corpus\n",
    "\n",
    "# Specify the files for the seven books\n",
    "files = ['harry_potter(1)/HP1.txt', 'harry_potter(1)/HP2.txt', 'harry_potter(1)/HP3.txt', 'harry_potter(1)/HP4.txt']\n",
    "\n",
    "# Preprocess the text\n",
    "corpus = read_and_preprocess(files)\n"
   ]
  }
 ],
 "metadata": {
  "language_info": {
   "name": "python"
  }
 },
 "nbformat": 4,
 "nbformat_minor": 2
}
